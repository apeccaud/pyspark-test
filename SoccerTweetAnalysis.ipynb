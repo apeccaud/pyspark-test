{
 "cells": [
  {
   "cell_type": "code",
   "execution_count": 1,
   "metadata": {
    "collapsed": true
   },
   "outputs": [],
   "source": [
    "# Import and create a new SQLContext \n",
    "from pyspark.sql import SQLContext\n",
    "sqlContext = SQLContext(sc)"
   ]
  },
  {
   "cell_type": "code",
   "execution_count": 2,
   "metadata": {
    "collapsed": false
   },
   "outputs": [],
   "source": [
    "# Read the country CSV file into an RDD.\n",
    "country_lines = sc.textFile('file:///home/cloudera/Downloads/big-data-3/final-project/country-list.csv')"
   ]
  },
  {
   "cell_type": "code",
   "execution_count": 3,
   "metadata": {
    "collapsed": false
   },
   "outputs": [],
   "source": [
    "# Convert each line into a pair of words\n",
    "country_pairs = country_lines.map(lambda line: line.split(\", \"))"
   ]
  },
  {
   "cell_type": "code",
   "execution_count": 4,
   "metadata": {
    "collapsed": false
   },
   "outputs": [
    {
     "data": {
      "text/plain": [
       "[['Afghanistan', 'AFG'], ['Albania', 'ALB'], ['Algeria', 'ALG']]"
      ]
     },
     "execution_count": 4,
     "metadata": {},
     "output_type": "execute_result"
    }
   ],
   "source": [
    "country_pairs.take(3)"
   ]
  },
  {
   "cell_type": "code",
   "execution_count": 5,
   "metadata": {
    "collapsed": false
   },
   "outputs": [],
   "source": [
    "# Convert each pair of words into a tuple\n",
    "country_tuples = country_pairs.map(lambda pair: (pair[0], pair[1]))"
   ]
  },
  {
   "cell_type": "code",
   "execution_count": 6,
   "metadata": {
    "collapsed": false
   },
   "outputs": [
    {
     "data": {
      "text/plain": [
       "[('Afghanistan', 'AFG'), ('Albania', 'ALB'), ('Algeria', 'ALG')]"
      ]
     },
     "execution_count": 6,
     "metadata": {},
     "output_type": "execute_result"
    }
   ],
   "source": [
    "country_tuples.take(3)"
   ]
  },
  {
   "cell_type": "code",
   "execution_count": 7,
   "metadata": {
    "collapsed": false
   },
   "outputs": [
    {
     "name": "stdout",
     "output_type": "stream",
     "text": [
      "root\n",
      " |-- country: string (nullable = true)\n",
      " |-- code: string (nullable = true)\n",
      "\n"
     ]
    },
    {
     "data": {
      "text/plain": [
       "[Row(country='Afghanistan', code='AFG'),\n",
       " Row(country='Albania', code='ALB'),\n",
       " Row(country='Algeria', code='ALG')]"
      ]
     },
     "execution_count": 7,
     "metadata": {},
     "output_type": "execute_result"
    }
   ],
   "source": [
    "# Create the DataFrame, look at schema and contents\n",
    "countryDF = sqlContext.createDataFrame(country_tuples, [\"country\", \"code\"])\n",
    "countryDF.printSchema()\n",
    "countryDF.take(3)"
   ]
  },
  {
   "cell_type": "code",
   "execution_count": 8,
   "metadata": {
    "collapsed": false
   },
   "outputs": [
    {
     "data": {
      "text/plain": [
       "13995"
      ]
     },
     "execution_count": 8,
     "metadata": {},
     "output_type": "execute_result"
    }
   ],
   "source": [
    "# Read tweets CSV file into RDD of lines\n",
    "tweet_lines = sc.textFile('file:///home/cloudera/Downloads/big-data-3/final-project/tweet_text_exported.csv')\n",
    "tweet_lines.count()"
   ]
  },
  {
   "cell_type": "code",
   "execution_count": 9,
   "metadata": {
    "collapsed": false
   },
   "outputs": [
    {
     "data": {
      "text/plain": [
       "13391"
      ]
     },
     "execution_count": 9,
     "metadata": {},
     "output_type": "execute_result"
    }
   ],
   "source": [
    "# Clean the data: some tweets are empty. Remove the empty tweets using filter() \n",
    "# tweet_lines_clean = tweet_lines.filter(\"tweet_text != ''\").select(\"tweet_text\")\n",
    "tweet_lines_clean = tweet_lines.filter(lambda line: len(line) != 0)\n",
    "tweet_lines_clean.count()"
   ]
  },
  {
   "cell_type": "code",
   "execution_count": 10,
   "metadata": {
    "collapsed": false
   },
   "outputs": [
    {
     "data": {
      "text/plain": [
       "[('', 3292),\n",
       " ('https://t.co/fQftAwGAad', 1),\n",
       " ('mobile', 1),\n",
       " ('#FridayNightTouchdown', 1),\n",
       " ('circle', 7)]"
      ]
     },
     "execution_count": 10,
     "metadata": {},
     "output_type": "execute_result"
    }
   ],
   "source": [
    "# Perform WordCount on the cleaned tweet texts. (note: this is several lines.)\n",
    "wordcount = tweet_lines_clean \\\n",
    "    .flatMap(lambda line: line.split(\" \")) \\\n",
    "    .map(lambda word: (word, 1)) \\\n",
    "    .reduceByKey(lambda a, b: (a + b))\n",
    "wordcount.take(5)"
   ]
  },
  {
   "cell_type": "code",
   "execution_count": 11,
   "metadata": {
    "collapsed": false
   },
   "outputs": [
    {
     "name": "stdout",
     "output_type": "stream",
     "text": [
      "root\n",
      " |-- word: string (nullable = true)\n",
      " |-- occurences: long (nullable = true)\n",
      "\n"
     ]
    }
   ],
   "source": [
    "# Create the DataFrame of tweet word counts\n",
    "tweetDF = sqlContext.createDataFrame(wordcount, [\"word\", \"occurences\"])\n",
    "tweetDF.printSchema()"
   ]
  },
  {
   "cell_type": "code",
   "execution_count": 12,
   "metadata": {
    "collapsed": false
   },
   "outputs": [
    {
     "data": {
      "text/plain": [
       "[Row(word='Thailand', occurences=1, country='Thailand', code='THA'),\n",
       " Row(word='Iceland', occurences=2, country='Iceland', code='ISL'),\n",
       " Row(word='Mexico', occurences=1, country='Mexico', code='MEX'),\n",
       " Row(word='Wales', occurences=19, country='Wales', code='WAL'),\n",
       " Row(word='Denmark', occurences=1, country='Denmark', code='DEN')]"
      ]
     },
     "execution_count": 12,
     "metadata": {},
     "output_type": "execute_result"
    }
   ],
   "source": [
    "# Join the country and tweet data frames (on the appropriate column)\n",
    "merge = tweetDF.join(countryDF, countryDF.country == tweetDF.word)\n",
    "merge.take(5)"
   ]
  },
  {
   "cell_type": "code",
   "execution_count": 13,
   "metadata": {
    "collapsed": false
   },
   "outputs": [
    {
     "data": {
      "text/plain": [
       "44"
      ]
     },
     "execution_count": 13,
     "metadata": {},
     "output_type": "execute_result"
    }
   ],
   "source": [
    "# Question 1: number of distinct countries mentioned\n",
    "merge.select('country').distinct().count()"
   ]
  },
  {
   "cell_type": "code",
   "execution_count": 14,
   "metadata": {
    "collapsed": false
   },
   "outputs": [
    {
     "name": "stdout",
     "output_type": "stream",
     "text": [
      "+---------------+\n",
      "|sum(occurences)|\n",
      "+---------------+\n",
      "|            397|\n",
      "+---------------+\n",
      "\n"
     ]
    }
   ],
   "source": [
    "# Question 2: number of countries mentioned in tweets.\n",
    "from pyspark.sql.functions import sum\n",
    "merge.select(sum('occurences')).show()"
   ]
  },
  {
   "cell_type": "code",
   "execution_count": 16,
   "metadata": {
    "collapsed": false
   },
   "outputs": [
    {
     "name": "stdout",
     "output_type": "stream",
     "text": [
      "+-----------+----------+-----------+----+\n",
      "|       word|occurences|    country|code|\n",
      "+-----------+----------+-----------+----+\n",
      "|     Norway|        52|     Norway| NOR|\n",
      "|    Nigeria|        49|    Nigeria| NGA|\n",
      "|     France|        42|     France| FRA|\n",
      "|   Slovakia|        30|   Slovakia| SVK|\n",
      "|    England|        25|    England| ENG|\n",
      "|    Germany|        20|    Germany| GER|\n",
      "|      Wales|        19|      Wales| WAL|\n",
      "|     Russia|        15|     Russia| RUS|\n",
      "|Netherlands|        13|Netherlands| NED|\n",
      "|     Brazil|        13|     Brazil| BRA|\n",
      "|     Canada|        11|     Canada| CAN|\n",
      "|Switzerland|        10|Switzerland| SUI|\n",
      "|       Chad|         9|       Chad| CHA|\n",
      "|     Guinea|         8|     Guinea| GUI|\n",
      "|   Portugal|         8|   Portugal| POR|\n",
      "|      Spain|         8|      Spain| ESP|\n",
      "|       Iraq|         6|       Iraq| IRQ|\n",
      "|     Jordan|         6|     Jordan| JOR|\n",
      "|    Georgia|         5|    Georgia| GEO|\n",
      "|      Japan|         5|      Japan| JPN|\n",
      "+-----------+----------+-----------+----+\n",
      "only showing top 20 rows\n",
      "\n"
     ]
    }
   ],
   "source": [
    "# Table 1: top three countries and their counts.\n",
    "from pyspark.sql.functions import desc\n",
    "merge.sort(desc(\"occurences\")).show()"
   ]
  },
  {
   "cell_type": "code",
   "execution_count": 20,
   "metadata": {
    "collapsed": false
   },
   "outputs": [
    {
     "name": "stdout",
     "output_type": "stream",
     "text": [
      "+-----------+----------+-----------+----+\n",
      "|       word|occurences|    country|code|\n",
      "+-----------+----------+-----------+----+\n",
      "|      Wales|        19|      Wales| WAL|\n",
      "|Netherlands|        13|Netherlands| NED|\n",
      "|      Kenya|         3|      Kenya| KEN|\n",
      "+-----------+----------+-----------+----+\n",
      "\n"
     ]
    }
   ],
   "source": [
    "# Table 2: counts for Kenya, Wales, and Netherlands.\n",
    "merge.filter(merge.country.isin(['Kenya', 'Wales', 'Netherlands'])).show()"
   ]
  },
  {
   "cell_type": "code",
   "execution_count": 21,
   "metadata": {
    "collapsed": false
   },
   "outputs": [
    {
     "name": "stdout",
     "output_type": "stream",
     "text": [
      "+-----------------+\n",
      "|  avg(occurences)|\n",
      "+-----------------+\n",
      "|9.022727272727273|\n",
      "+-----------------+\n",
      "\n"
     ]
    }
   ],
   "source": [
    "from pyspark.sql.functions import mean\n",
    "merge.select(mean('occurences')).show()"
   ]
  }
 ],
 "metadata": {
  "kernelspec": {
   "display_name": "Python 3",
   "language": "python",
   "name": "python3"
  },
  "language_info": {
   "codemirror_mode": {
    "name": "ipython",
    "version": 3
   },
   "file_extension": ".py",
   "mimetype": "text/x-python",
   "name": "python",
   "nbconvert_exporter": "python",
   "pygments_lexer": "ipython3",
   "version": "3.5.1"
  }
 },
 "nbformat": 4,
 "nbformat_minor": 0
}
